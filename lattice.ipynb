{
 "cells": [
  {
   "cell_type": "code",
   "execution_count": 31,
   "id": "dbe5c08c",
   "metadata": {},
   "outputs": [
    {
     "name": "stdout",
     "output_type": "stream",
     "text": [
      " Le matériau à analyser est le Li2CuSb\n"
     ]
    }
   ],
   "source": [
    "from pymatgen.ext.matproj import MPRester\n",
    "from pymatgen.io.cif import CifWriter\n",
    "from pymatgen.symmetry.analyzer import SpacegroupAnalyzer\n",
    "\n",
    "with MPRester(\"WOCEDvyZTdTuSHXq\") as m:\n",
    "    structure = m.get_structure_by_material_id(\"mp-15988\")\n",
    "    \n",
    "print(\" Le matériau à analyser est le Li2CuSb\")"
   ]
  },
  {
   "cell_type": "markdown",
   "id": "879997db",
   "metadata": {},
   "source": [
    "# 1) Vecteurs de bases des réseaux directs"
   ]
  },
  {
   "cell_type": "code",
   "execution_count": 21,
   "id": "c6f96cf4",
   "metadata": {},
   "outputs": [
    {
     "name": "stdout",
     "output_type": "stream",
     "text": [
      "Les vecteurs de base du réseau direct sont:\n",
      "0.000000 3.166847 3.166847\n",
      "3.166847 0.000000 3.166847\n",
      "3.166847 3.166847 0.000000 \n",
      "\n",
      "Les longueurs [Å] des vecteurs a, b et c du réseau direct sont:\n",
      "(4.4785979773605495, 4.4785979773605495, 4.4785979773605495) \n",
      "\n"
     ]
    }
   ],
   "source": [
    "VecteurDirect = structure.lattice\n",
    "LongueurVecteurABC = VecteurDirect.abc\n",
    "\n",
    "print(\"Les vecteurs de base du réseau direct sont:\")\n",
    "print(VecteurDirect, \"\\n\")\n",
    "print(\"Les longueurs [Å] des vecteurs a, b et c du réseau direct sont:\")\n",
    "print(LongueurVecteurABC, \"\\n\")"
   ]
  },
  {
   "cell_type": "markdown",
   "id": "9abe08c5",
   "metadata": {},
   "source": [
    "# 2) Vecteurs du réseau réciproque"
   ]
  },
  {
   "cell_type": "code",
   "execution_count": 22,
   "id": "9189c4ba",
   "metadata": {},
   "outputs": [
    {
     "name": "stdout",
     "output_type": "stream",
     "text": [
      "Les vecteurs de base du réseau réciproque sont\n",
      "-0.992025 0.992025 0.992025\n",
      "0.992025 -0.992025 0.992025\n",
      "0.992025 0.992025 -0.992025 \n",
      "\n",
      "Les longueurs [Å] des vecteurs a*, b* et c* du réseau direct sont:\n",
      "(1.7182383906461705, 1.7182383906461705, 1.7182383906461707)\n"
     ]
    }
   ],
   "source": [
    "VecteurReciproque = VecteurDirect.reciprocal_lattice\n",
    "LongueurVecteurABCPrime = VecteurReciproque.abc\n",
    "\n",
    "print(\"Les vecteurs de base du réseau réciproque sont\")\n",
    "print(VecteurReciproque, \"\\n\")\n",
    "print(\"Les longueurs [Å] des vecteurs a*, b* et c* du réseau direct sont:\")\n",
    "print(LongueurVecteurABCPrime)"
   ]
  },
  {
   "cell_type": "markdown",
   "id": "49ca2d2d",
   "metadata": {},
   "source": [
    "# 3) Type de maille"
   ]
  },
  {
   "cell_type": "code",
   "execution_count": 27,
   "id": "395aae69",
   "metadata": {},
   "outputs": [
    {
     "name": "stdout",
     "output_type": "stream",
     "text": [
      "Le type de maille est: \n",
      "cubic\n"
     ]
    }
   ],
   "source": [
    "lattice = SpacegroupAnalyzer(structure).get_lattice_type()\n",
    " \n",
    "print(\"Le type de maille est: \")\n",
    "print(lattice)\n"
   ]
  },
  {
   "cell_type": "markdown",
   "id": "1132b2cb",
   "metadata": {},
   "source": [
    "# 4) Système cristallin"
   ]
  },
  {
   "cell_type": "code",
   "execution_count": 29,
   "id": "4f5c016a",
   "metadata": {},
   "outputs": [
    {
     "name": "stdout",
     "output_type": "stream",
     "text": [
      "Le système cristallin est: \n",
      "cubic\n"
     ]
    }
   ],
   "source": [
    "SystemeCristallin = SpacegroupAnalyzer(structure).get_crystal_system()\n",
    "\n",
    "print(\"Le système cristallin est: \")\n",
    "print(SystemeCristallin)"
   ]
  },
  {
   "cell_type": "markdown",
   "id": "4c6700cc",
   "metadata": {},
   "source": [
    "# 5) Groupe ponctuel"
   ]
  },
  {
   "cell_type": "code",
   "execution_count": 30,
   "id": "fa5901bc",
   "metadata": {},
   "outputs": [
    {
     "name": "stdout",
     "output_type": "stream",
     "text": [
      "Le groupe ponctuel est: \n",
      "-43m\n"
     ]
    }
   ],
   "source": [
    "GroupePonctuel = SpacegroupAnalyzer(structure).get_point_group_symbol()\n",
    "\n",
    "print(\"Le groupe ponctuel est: \")\n",
    "print(GroupePonctuel)"
   ]
  },
  {
   "cell_type": "code",
   "execution_count": null,
   "id": "4deb3e58",
   "metadata": {},
   "outputs": [],
   "source": []
  }
 ],
 "metadata": {
  "kernelspec": {
   "display_name": "Python 3",
   "language": "python",
   "name": "python3"
  },
  "language_info": {
   "codemirror_mode": {
    "name": "ipython",
    "version": 3
   },
   "file_extension": ".py",
   "mimetype": "text/x-python",
   "name": "python",
   "nbconvert_exporter": "python",
   "pygments_lexer": "ipython3",
   "version": "3.6.8"
  }
 },
 "nbformat": 4,
 "nbformat_minor": 5
}
