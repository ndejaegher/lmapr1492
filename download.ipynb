{
 "cells": [
  {
   "cell_type": "code",
   "execution_count": 15,
   "id": "fbe6c832",
   "metadata": {},
   "outputs": [],
   "source": [
    "from pymatgen.core import Lattice, Structure, Molecule\n",
    "from pymatgen.electronic_structure.plotter import BSPlotter\n",
    "from pymatgen.symmetry.analyzer import SpacegroupAnalyzer\n",
    "from pymatgen.ext.matproj import MPRester"
   ]
  },
  {
   "cell_type": "code",
   "execution_count": 16,
   "id": "3b8830ef",
   "metadata": {},
   "outputs": [
    {
     "name": "stdout",
     "output_type": "stream",
     "text": [
      "Full Formula (Li2 Cu1 Sb1)\n",
      "Reduced Formula: Li2CuSb\n",
      "abc   :   4.478598   4.478598   4.478598\n",
      "angles:  60.000000  60.000000  60.000000\n",
      "Sites (4)\n",
      "  #  SP       a     b     c    magmom\n",
      "---  ----  ----  ----  ----  --------\n",
      "  0  Li    0.25  0.25  0.25     0\n",
      "  1  Li    0.5   0.5   0.5      0\n",
      "  2  Cu    0     0     0       -0.001\n",
      "  3  Sb    0.75  0.75  0.75     0\n"
     ]
    }
   ],
   "source": [
    "# Structure for material id\n",
    "with MPRester(\"WOCEDvyZTdTuSHXq\") as m:\n",
    "    structure = m.get_structure_by_material_id(\"mp-15988\")\n",
    "    print (structure)"
   ]
  },
  {
   "cell_type": "code",
   "execution_count": null,
   "id": "7da80de8",
   "metadata": {},
   "outputs": [],
   "source": []
  }
 ],
 "metadata": {
  "kernelspec": {
   "display_name": "Python 3",
   "language": "python",
   "name": "python3"
  },
  "language_info": {
   "codemirror_mode": {
    "name": "ipython",
    "version": 3
   },
   "file_extension": ".py",
   "mimetype": "text/x-python",
   "name": "python",
   "nbconvert_exporter": "python",
   "pygments_lexer": "ipython3",
   "version": "3.6.8"
  }
 },
 "nbformat": 4,
 "nbformat_minor": 5
}
