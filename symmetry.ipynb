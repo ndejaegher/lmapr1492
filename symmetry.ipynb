{
 "cells": [
  {
   "cell_type": "markdown",
   "id": "34802976",
   "metadata": {},
   "source": [
    "# Tâche 6: symmetry"
   ]
  },
  {
   "cell_type": "code",
   "execution_count": 4,
   "id": "13eef543",
   "metadata": {},
   "outputs": [],
   "source": [
    "from pymatgen.ext.matproj import MPRester\n",
    "from pymatgen.symmetry.analyzer import SpacegroupAnalyzer\n",
    "from pprint import pprint\n",
    "from pymatgen.io.cif import CifWriter\n",
    "from pymatgen import Structure\n",
    "from pymatgen import symmetry\n",
    "from pymatgen.core.operations import SymmOp\n",
    "from IPython.display import Image\n",
    "from jupyter_jsmol.pymatgen import quick_view"
   ]
  },
  {
   "cell_type": "code",
   "execution_count": 5,
   "id": "9c8e40d4",
   "metadata": {},
   "outputs": [
    {
     "name": "stdout",
     "output_type": "stream",
     "text": [
      " Le matériau à analyser est le Li2CuSb\n"
     ]
    }
   ],
   "source": [
    "with MPRester(\"WOCEDvyZTdTuSHXq\") as m:\n",
    "    structure = m.get_structure_by_material_id(\"mp-15988\")\n",
    "    analyzer = SpacegroupAnalyzer(structure)\n",
    "    \n",
    "print(\" Le matériau à analyser est le Li2CuSb\")"
   ]
  },
  {
   "cell_type": "code",
   "execution_count": 7,
   "id": "4d7c5c5e",
   "metadata": {},
   "outputs": [
    {
     "name": "stdout",
     "output_type": "stream",
     "text": [
      "[Rot:\n",
      "[[1. 0. 0.]\n",
      " [0. 1. 0.]\n",
      " [0. 0. 1.]]\n",
      "tau\n",
      "[0. 0. 0.], Rot:\n",
      "[[ 0.  1.  0.]\n",
      " [ 0.  0.  1.]\n",
      " [-1. -1. -1.]]\n",
      "tau\n",
      "[0. 0. 0.], Rot:\n",
      "[[ 0.  0.  1.]\n",
      " [-1. -1. -1.]\n",
      " [ 1.  0.  0.]]\n",
      "tau\n",
      "[0. 0. 0.], Rot:\n",
      "[[-1. -1. -1.]\n",
      " [ 1.  0.  0.]\n",
      " [ 0.  1.  0.]]\n",
      "tau\n",
      "[0. 0. 0.], Rot:\n",
      "[[-1. -1. -1.]\n",
      " [ 0.  0.  1.]\n",
      " [ 0.  1.  0.]]\n",
      "tau\n",
      "[0. 0. 0.], Rot:\n",
      "[[ 1.  0.  0.]\n",
      " [-1. -1. -1.]\n",
      " [ 0.  0.  1.]]\n",
      "tau\n",
      "[0. 0. 0.], Rot:\n",
      "[[ 0.  1.  0.]\n",
      " [ 1.  0.  0.]\n",
      " [-1. -1. -1.]]\n",
      "tau\n",
      "[0. 0. 0.], Rot:\n",
      "[[0. 0. 1.]\n",
      " [0. 1. 0.]\n",
      " [1. 0. 0.]]\n",
      "tau\n",
      "[0. 0. 0.], Rot:\n",
      "[[-1. -1. -1.]\n",
      " [ 1.  0.  0.]\n",
      " [ 0.  0.  1.]]\n",
      "tau\n",
      "[0. 0. 0.], Rot:\n",
      "[[ 1.  0.  0.]\n",
      " [ 0.  1.  0.]\n",
      " [-1. -1. -1.]]\n",
      "tau\n",
      "[0. 0. 0.], Rot:\n",
      "[[0. 1. 0.]\n",
      " [0. 0. 1.]\n",
      " [1. 0. 0.]]\n",
      "tau\n",
      "[0. 0. 0.], Rot:\n",
      "[[ 0.  0.  1.]\n",
      " [-1. -1. -1.]\n",
      " [ 0.  1.  0.]]\n",
      "tau\n",
      "[0. 0. 0.], Rot:\n",
      "[[ 1.  0.  0.]\n",
      " [-1. -1. -1.]\n",
      " [ 0.  1.  0.]]\n",
      "tau\n",
      "[0. 0. 0.], Rot:\n",
      "[[0. 1. 0.]\n",
      " [1. 0. 0.]\n",
      " [0. 0. 1.]]\n",
      "tau\n",
      "[0. 0. 0.], Rot:\n",
      "[[ 0.  0.  1.]\n",
      " [ 0.  1.  0.]\n",
      " [-1. -1. -1.]]\n",
      "tau\n",
      "[0. 0. 0.], Rot:\n",
      "[[-1. -1. -1.]\n",
      " [ 0.  0.  1.]\n",
      " [ 1.  0.  0.]]\n",
      "tau\n",
      "[0. 0. 0.], Rot:\n",
      "[[ 0.  1.  0.]\n",
      " [-1. -1. -1.]\n",
      " [ 0.  0.  1.]]\n",
      "tau\n",
      "[0. 0. 0.], Rot:\n",
      "[[ 0.  0.  1.]\n",
      " [ 1.  0.  0.]\n",
      " [-1. -1. -1.]]\n",
      "tau\n",
      "[0. 0. 0.], Rot:\n",
      "[[-1. -1. -1.]\n",
      " [ 0.  1.  0.]\n",
      " [ 1.  0.  0.]]\n",
      "tau\n",
      "[0. 0. 0.], Rot:\n",
      "[[1. 0. 0.]\n",
      " [0. 0. 1.]\n",
      " [0. 1. 0.]]\n",
      "tau\n",
      "[0. 0. 0.], Rot:\n",
      "[[0. 0. 1.]\n",
      " [1. 0. 0.]\n",
      " [0. 1. 0.]]\n",
      "tau\n",
      "[0. 0. 0.], Rot:\n",
      "[[-1. -1. -1.]\n",
      " [ 0.  1.  0.]\n",
      " [ 0.  0.  1.]]\n",
      "tau\n",
      "[0. 0. 0.], Rot:\n",
      "[[ 1.  0.  0.]\n",
      " [ 0.  0.  1.]\n",
      " [-1. -1. -1.]]\n",
      "tau\n",
      "[0. 0. 0.], Rot:\n",
      "[[ 0.  1.  0.]\n",
      " [-1. -1. -1.]\n",
      " [ 1.  0.  0.]]\n",
      "tau\n",
      "[0. 0. 0.]]\n",
      "[PeriodicSite: Li (1.5834, 1.5834, 4.7503) [0.2500, 0.2500, 0.7500], PeriodicSite: Li (3.1668, 0.0000, 0.0000) [0.5000, 0.0000, 0.0000], PeriodicSite: Li (1.5834, 4.7503, 1.5834) [0.2500, 0.7500, 0.2500], PeriodicSite: Li (3.1668, 3.1668, 3.1668) [0.5000, 0.5000, 0.5000], PeriodicSite: Li (4.7503, 1.5834, 1.5834) [0.7500, 0.2500, 0.2500], PeriodicSite: Li (0.0000, 0.0000, 3.1668) [0.0000, 0.0000, 0.5000], PeriodicSite: Li (4.7503, 4.7503, 4.7503) [0.7500, 0.7500, 0.7500], PeriodicSite: Li (0.0000, 3.1668, 0.0000) [0.0000, 0.5000, 0.0000], PeriodicSite: Cu (0.0000, 0.0000, 0.0000) [0.0000, 0.0000, 0.0000], PeriodicSite: Cu (0.0000, 3.1668, 3.1668) [0.0000, 0.5000, 0.5000], PeriodicSite: Cu (3.1668, 0.0000, 3.1668) [0.5000, 0.0000, 0.5000], PeriodicSite: Cu (3.1668, 3.1668, 0.0000) [0.5000, 0.5000, 0.0000], PeriodicSite: Sb (1.5834, 1.5834, 1.5834) [0.2500, 0.2500, 0.2500], PeriodicSite: Sb (1.5834, 4.7503, 4.7503) [0.2500, 0.7500, 0.7500], PeriodicSite: Sb (4.7503, 1.5834, 4.7503) [0.7500, 0.2500, 0.7500], PeriodicSite: Sb (4.7503, 4.7503, 1.5834) [0.7500, 0.7500, 0.2500]]\n"
     ]
    }
   ],
   "source": [
    "#Quelques informations sur le matériau:\n",
    "\n",
    "\n",
    "mailleConventionnelle = analyzer.get_conventional_standard_structure()\n",
    "sites = mailleConventionnelle.sites\n",
    "listeDesSymetries = analyzer.get_symmetry_operations()\n",
    "\n",
    "\n",
    "print(listeDesSymetries)\n",
    "print(sites)\n"
   ]
  },
  {
   "cell_type": "markdown",
   "id": "83d119e6",
   "metadata": {},
   "source": [
    "# Première opération de symétrie "
   ]
  },
  {
   "cell_type": "code",
   "execution_count": 22,
   "id": "f762f38e",
   "metadata": {},
   "outputs": [
    {
     "name": "stdout",
     "output_type": "stream",
     "text": [
      "Première opération de symétrie:\n",
      "(x, y, z) -> (z, y, x)\n",
      "\n",
      "Matrice de Rotation:\n",
      "[[0. 0. 1.]\n",
      " [0. 1. 0.]\n",
      " [1. 0. 0.]]\n",
      "\n",
      "Vecteur de translation:\n",
      "[0. 0. 0.]\n"
     ]
    }
   ],
   "source": [
    "premiereSymetrie = listeDesSymetries[7]\n",
    "\n",
    "print(\"Première opération de symétrie:\")\n",
    "print(\"(x, y, z) -> (\" + str(premiereSymetrie.as_xyz_string())+ \")\")\n",
    "\n",
    "print(\"\\nMatrice de Rotation:\")\n",
    "print(premiereSymetrie.rotation_matrix)\n",
    "\n",
    "print(\"\\nVecteur de translation:\")\n",
    "print(premiereSymetrie.translation_vector)"
   ]
  },
  {
   "cell_type": "code",
   "execution_count": 23,
   "id": "19ea7815",
   "metadata": {},
   "outputs": [
    {
     "name": "stdout",
     "output_type": "stream",
     "text": [
      "Coordonnées Li avant opération :\n",
      "[0.5, 0.0, 0.0]\n",
      "\n",
      "Coordonnées Li après opération :\n",
      "[0.  0.  0.5]\n"
     ]
    }
   ],
   "source": [
    "print(\"Coordonnées Li avant opération :\")\n",
    "premiereSymBefore = [0.5000, 0.0000, 0.0000]\n",
    "print(premiereSymBefore)\n",
    "\n",
    "print(\"\\nCoordonnées Li après opération :\")\n",
    "\n",
    "print(premiereSymetrie.operate(premiereSymBefore))\n"
   ]
  },
  {
   "cell_type": "markdown",
   "id": "ea777b79",
   "metadata": {},
   "source": [
    "Analyse :  Réflexion par rapport au plan xz"
   ]
  },
  {
   "cell_type": "code",
   "execution_count": 37,
   "id": "2283f60f",
   "metadata": {},
   "outputs": [
    {
     "data": {
      "application/vnd.jupyter.widget-view+json": {
       "model_id": "0f2f8685bcda473392950c2b65cdd42a",
       "version_major": 2,
       "version_minor": 0
      },
      "text/plain": [
       "JsmolView(layout=Layout(align_self='stretch', height='400px'))"
      ]
     },
     "metadata": {},
     "output_type": "display_data"
    }
   ],
   "source": [
    "view = quick_view(mailleConventionnelle)\n",
    "display(view) \n",
    "view.script('draw symop 7 {atomno = 1}')"
   ]
  },
  {
   "cell_type": "markdown",
   "id": "92290ff6",
   "metadata": {},
   "source": [
    "# Deuxième opération de symétrie\n"
   ]
  },
  {
   "cell_type": "code",
   "execution_count": 33,
   "id": "3d69e332",
   "metadata": {
    "scrolled": false
   },
   "outputs": [
    {
     "name": "stdout",
     "output_type": "stream",
     "text": [
      "Deuxième opération de symétrie:\n",
      "(x, y, z) -> (y, z, x)\n",
      "\n",
      "Matrice de Rotation:\n",
      "[[0. 1. 0.]\n",
      " [0. 0. 1.]\n",
      " [1. 0. 0.]]\n",
      "\n",
      "Vecteur de translation:\n",
      "[0. 0. 0.]\n"
     ]
    }
   ],
   "source": [
    "deuxiemeSymetrie = listeDesSymetries[10]\n",
    "\n",
    "print(\"Deuxième opération de symétrie:\")\n",
    "print(\"(x, y, z) -> (\" + str(deuxiemeSymetrie.as_xyz_string())+ \")\")\n",
    "\n",
    "print(\"\\nMatrice de Rotation:\")\n",
    "print(deuxiemeSymetrie.rotation_matrix)\n",
    "\n",
    "print(\"\\nVecteur de translation:\")\n",
    "print(deuxiemeSymetrie.translation_vector)"
   ]
  },
  {
   "cell_type": "code",
   "execution_count": 26,
   "id": "1f795e2e",
   "metadata": {
    "scrolled": true
   },
   "outputs": [
    {
     "name": "stdout",
     "output_type": "stream",
     "text": [
      "Coordonnées Cu avant opération :\n",
      "[0.0, 0.5, 0.5]\n",
      "\n",
      "Coordonnées Cu après opération :\n",
      "[0.5 0.5 0. ]\n"
     ]
    }
   ],
   "source": [
    "print(\"Coordonnées Cu avant opération :\")\n",
    "deuxiemeSymBefore = [0.0000, 0.5000, 0.5000]\n",
    "print(deuxiemeSymBefore)\n",
    "\n",
    "print(\"\\nCoordonnées Cu après opération :\")\n",
    "\n",
    "print(deuxiemeSymetrie.operate(deuxiemeSymBefore))"
   ]
  },
  {
   "cell_type": "markdown",
   "id": "e4d824d6",
   "metadata": {},
   "source": [
    "Analyse : Rotation d'orde 3 autour de la diagonale du cube [111]\n"
   ]
  },
  {
   "cell_type": "code",
   "execution_count": 39,
   "id": "e78fa575",
   "metadata": {},
   "outputs": [
    {
     "data": {
      "application/vnd.jupyter.widget-view+json": {
       "model_id": "62c9d23db3ef4961a980ad3decf7a3de",
       "version_major": 2,
       "version_minor": 0
      },
      "text/plain": [
       "JsmolView(layout=Layout(align_self='stretch', height='400px'))"
      ]
     },
     "metadata": {},
     "output_type": "display_data"
    }
   ],
   "source": [
    "view = quick_view(mailleConventionnelle)\n",
    "display(view) \n",
    "view.script('draw symop 10 {atomno = 9}')"
   ]
  },
  {
   "cell_type": "markdown",
   "id": "098688aa",
   "metadata": {},
   "source": [
    "# Deuxième opération de symétrie\n"
   ]
  },
  {
   "cell_type": "code",
   "execution_count": 31,
   "id": "a27611c7",
   "metadata": {},
   "outputs": [
    {
     "name": "stdout",
     "output_type": "stream",
     "text": [
      "Troisième opération de symétrie:\n",
      "(x, y, z) -> (y, x, z)\n",
      "\n",
      "Matrice de Rotation:\n",
      "[[0. 1. 0.]\n",
      " [1. 0. 0.]\n",
      " [0. 0. 1.]]\n",
      "\n",
      "Vecteur de translation:\n",
      "[0. 0. 0.]\n"
     ]
    }
   ],
   "source": [
    "troisiemeSymetrie = listeDesSymetries[13]\n",
    "\n",
    "print(\"Troisième opération de symétrie:\")\n",
    "print(\"(x, y, z) -> (\" + str(troisiemeSymetrie.as_xyz_string())+ \")\")\n",
    "\n",
    "print(\"\\nMatrice de Rotation:\")\n",
    "print(troisiemeSymetrie.rotation_matrix)\n",
    "\n",
    "print(\"\\nVecteur de translation:\")\n",
    "print(troisiemeSymetrie.translation_vector)"
   ]
  },
  {
   "cell_type": "code",
   "execution_count": 32,
   "id": "9954ca76",
   "metadata": {},
   "outputs": [
    {
     "name": "stdout",
     "output_type": "stream",
     "text": [
      "Coordonnées Sb avant opération :\n",
      "[0.25, 0.75, 0.75]\n",
      "\n",
      "Coordonnées Sb après opération :\n",
      "[0.75 0.25 0.75]\n"
     ]
    }
   ],
   "source": [
    "print(\"Coordonnées Sb avant opération :\")\n",
    "troisiemeSymBefore = [0.2500, 0.7500, 0.7500]\n",
    "print(troisiemeSymBefore)\n",
    "\n",
    "print(\"\\nCoordonnées Sb après opération :\")\n",
    "\n",
    "print(troisiemeSymetrie.operate(troisiemeSymBefore))"
   ]
  },
  {
   "cell_type": "markdown",
   "id": "f1e34ac5",
   "metadata": {},
   "source": [
    "Analyse : Symmétrie de réflexion par rapport au plan xy\n",
    "\n"
   ]
  },
  {
   "cell_type": "code",
   "execution_count": 38,
   "id": "6833cca6",
   "metadata": {},
   "outputs": [
    {
     "data": {
      "application/vnd.jupyter.widget-view+json": {
       "model_id": "f281970cf51b48fa981008a8f8d7ddca",
       "version_major": 2,
       "version_minor": 0
      },
      "text/plain": [
       "JsmolView(layout=Layout(align_self='stretch', height='400px'))"
      ]
     },
     "metadata": {},
     "output_type": "display_data"
    }
   ],
   "source": [
    "view = quick_view(mailleConventionnelle)\n",
    "display(view) \n",
    "view.script('draw symop 13 {atomno = 13}')"
   ]
  },
  {
   "cell_type": "code",
   "execution_count": null,
   "id": "1fd8b0d1",
   "metadata": {},
   "outputs": [],
   "source": []
  }
 ],
 "metadata": {
  "kernelspec": {
   "display_name": "Python 3",
   "language": "python",
   "name": "python3"
  },
  "language_info": {
   "codemirror_mode": {
    "name": "ipython",
    "version": 3
   },
   "file_extension": ".py",
   "mimetype": "text/x-python",
   "name": "python",
   "nbconvert_exporter": "python",
   "pygments_lexer": "ipython3",
   "version": "3.6.8"
  }
 },
 "nbformat": 4,
 "nbformat_minor": 5
}
